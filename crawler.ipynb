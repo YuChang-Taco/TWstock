{
 "cells": [
  {
   "cell_type": "markdown",
   "metadata": {},
   "source": [
    "# 爬蟲抓取證交所各股資料"
   ]
  },
  {
   "cell_type": "code",
   "execution_count": 1,
   "metadata": {},
   "outputs": [],
   "source": [
    "import requests\n",
    "import socket\n",
    "import time\n",
    "import csv, json"
   ]
  },
  {
   "cell_type": "code",
   "execution_count": 2,
   "metadata": {},
   "outputs": [],
   "source": [
    "def twodigit(n):  #將數值轉為二位數字串\n",
    "    if(n < 10):\n",
    "        retstr = '0' + str(n)\n",
    "    else:\n",
    "        retstr = str(n)\n",
    "    return retstr\n",
    "\n",
    "def transform_date(date):   #民國轉西元\n",
    "        y, m, d = date.split('/')\n",
    "        return str(int(y)+1911) + '/' + m  + '/' + d\n",
    "\n",
    "def transform_data(jdata):   #去除，號\n",
    "    for m in range(len(jdata)):\n",
    "        jdata[m][0] = transform_date(jdata[m][0])\n",
    "        for n in range(len(jdata[0])):\n",
    "            jdata[m][n] = jdata[m][n].replace(\",\", \"\")\n",
    "    return jdata"
   ]
  },
  {
   "cell_type": "code",
   "execution_count": 3,
   "metadata": {},
   "outputs": [],
   "source": [
    "def get_data(symbol):\n",
    "    with open(f'./data/{symbol}.csv', 'w+', newline = '') as csvfile:\n",
    "        writer = csv.writer(csvfile)\n",
    "        \n",
    "        writer.writerow(['date', 'trade_volume', 'trade_value', 'opening_price', 'highest_price', 'lowest_price', 'closing_price', 'change', 'transaction'])\n",
    "        \n",
    "        for year in range(2011, 2021):\n",
    "            for month in range(1, 13):\n",
    "                \n",
    "                url = f'http://www.twse.com.tw/exchangeReport/STOCK_DAY?response=json&date={year}{twodigit(month)}01&stockNo={symbol}&_=1521363562193'\n",
    "                while True:\n",
    "                    try:\n",
    "                        res = requests.get(url)   #回傳為json資料\n",
    "                        break\n",
    "                    except socket.error as error:\n",
    "                        print(error)\n",
    "                        time.sleep(120)\n",
    "                        continue\n",
    "                                \n",
    "                jres = json.loads(res.text)  #json解析\n",
    "                if 'data' in jres:\n",
    "                    jdata = jres['data']\n",
    "                    jdata = transform_data(jdata)                   \n",
    "                    writer.writerows(jdata)\n",
    "                else:\n",
    "                    print(f\"{year}{twodigit(month)} error\")\n",
    "                    break\n",
    "                time.sleep(5)\n",
    "            else: continue\n",
    "            break"
   ]
  },
  {
   "cell_type": "code",
   "execution_count": 4,
   "metadata": {},
   "outputs": [],
   "source": [
    "if __name__ == '__main__':\n",
    "    symbol = 2412\n",
    "    get_data(symbol)"
   ]
  }
 ],
 "metadata": {
  "kernelspec": {
   "display_name": "Python 3",
   "language": "python",
   "name": "python3"
  },
  "language_info": {
   "codemirror_mode": {
    "name": "ipython",
    "version": 3
   },
   "file_extension": ".py",
   "mimetype": "text/x-python",
   "name": "python",
   "nbconvert_exporter": "python",
   "pygments_lexer": "ipython3",
   "version": "3.8.5"
  }
 },
 "nbformat": 4,
 "nbformat_minor": 4
}
